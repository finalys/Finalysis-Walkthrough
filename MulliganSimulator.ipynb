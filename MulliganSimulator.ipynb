{
 "cells": [
  {
   "cell_type": "markdown",
   "id": "8d30fd66-157d-4fa6-a5ae-7051211483ad",
   "metadata": {},
   "source": [
    "## Simple Mulligan Simulator\n",
    "- The objective is to see if you're a skilled player."
   ]
  },
  {
   "cell_type": "code",
   "execution_count": 1,
   "id": "465abb48-5bad-47ea-beca-ed2b5f5dc50b",
   "metadata": {},
   "outputs": [],
   "source": [
    "## Import the libraries\n",
    "import pandas as pd\n",
    "import random as rd\n",
    "\n",
    "## Import hashfiles of card\n",
    "cardhash_df = pd.read_excel(\"SVCardInfo.xlsx\", sheet_name=\"FileData\")\n",
    "cardhash_dict = cardhash_df.set_index(\"hash\")[\"base_card_name\"].to_dict()\n",
    "\n",
    "## Import function"
   ]
  },
  {
   "cell_type": "code",
   "execution_count": 2,
   "id": "8a068b7d-95f1-4443-ad13-798ac9768553",
   "metadata": {},
   "outputs": [],
   "source": [
    "## Take in input of deck\n",
    "inputDeck = 'https://shadowverse-portal.com/deck/3.3.5-gkQ.5-gkQ.5-gkQ.7bgXa.7WnIi.7WnIi.7WnIi.7acAQ.7acAQ.7acAQ.7MWZS.7MWZS.5-gka.5-gka.5-gka.7QI-w.7QI-w.7XxGw.7XxGw.7P7JA.7P7JA.7P7JA.7Xy-S.7Xy-S.7Xy-S.7Xu5y.7Xu5y.7Xu5y.7QDNi.7QDNi.7QDNi.7bgXQ.7bgXQ.7bgXQ.7U77w.7U77w.7U77w.7bn7S.7bn7S.7bn7S?lang=en'\n",
    "inputDeck_list = inputDeck.split(\"deck/\")[-1].split(\"?lang\")[0][4:].split('.')\n",
    "inputDeck_list = [each.replace(each, cardhash_dict[each]) for each in inputDeck_list]\n",
    "\n",
    "## Sanity check\n",
    "if len(inputDeck_list) != 40:\n",
    "    print(f'Number of cards in deck : {len(inputDeck_list)}')\n",
    "    \n",
    "deckCheck = {}\n",
    "for cards in inputDeck_list:\n",
    "    if cards not in deckCheck.keys():\n",
    "        deckCheck[cards] = inputDeck_list.count(cards)\n",
    "        \n",
    "for cardname, count in deckCheck.items():\n",
    "    if int(count) < 0 or int(count) > 3:\n",
    "        print(f'Invalid deck! {cardname} has {count} copies.')"
   ]
  },
  {
   "cell_type": "code",
   "execution_count": 3,
   "id": "48d76b78-616a-4f63-a1d7-196e4c9c212b",
   "metadata": {},
   "outputs": [
    {
     "name": "stdout",
     "output_type": "stream",
     "text": [
      "Draw 1 : Feline Magic\n",
      "Draw 2 : Meltina, Miracle Sorceress\n",
      "Draw 3 : Angel's Blessing\n"
     ]
    },
    {
     "name": "stdin",
     "output_type": "stream",
     "text": [
      "\n",
      "Mull? Type the number without spaces >>>>>>>>>>>>\n",
      " \n"
     ]
    },
    {
     "name": "stdout",
     "output_type": "stream",
     "text": [
      "Draw 1 : Feline Magic\n",
      "Draw 2 : Meltina, Miracle Sorceress\n",
      "Draw 3 : Angel's Blessing\n",
      "\n",
      "Final Hand <<Go 1st>> : ['Feline Magic', 'Meltina, Miracle Sorceress', \"Angel's Blessing\", 'Chakram Wizard']\n",
      "\n",
      "Final Hand <<Go 2nd>> : ['Feline Magic', 'Meltina, Miracle Sorceress', \"Angel's Blessing\", 'Chakram Wizard', 'Crushing Rain']\n"
     ]
    }
   ],
   "source": [
    "# remove a random element from list\n",
    "tempDeck = inputDeck_list.copy()\n",
    "tempMull = {'1': 0, '2': 0, '3': 0}\n",
    "tempHand = {'1': '', '2': '', '3': ''}\n",
    "\n",
    "for i in range(0,3):\n",
    "    random_element = rd.choice(tempDeck)\n",
    "    tempHand[str(i+1)] = random_element\n",
    "    tempDeck.remove(random_element)\n",
    "    print(f'Draw {i+1} : {random_element}')\n",
    "\n",
    "mullInput = input(\"\\nMull? Type the number without spaces >>>>>>>>>>>>\\n\")\n",
    "for each in mullInput:\n",
    "    if each in tempMull.keys():\n",
    "        tempMull[each] = 1\n",
    "        \n",
    "for k,v in tempMull.items():\n",
    "    if v == 1:\n",
    "        tempDeck.append(tempHand[k])\n",
    "        tempHand[str(k)] = ''\n",
    "        \n",
    "for k,v in tempHand.items():\n",
    "    if v == '':\n",
    "        random_element = rd.choice(tempDeck)\n",
    "        tempHand[str(k)] = random_element\n",
    "        tempDeck.remove(random_element)\n",
    "        print(f'Mulligan on Draw {k} : {random_element}')\n",
    "    else:\n",
    "        print(f'Draw {k} : {v}')\n",
    "        \n",
    "random_element = rd.choice(tempDeck)\n",
    "tempHand['4'] = random_element\n",
    "tempDeck.remove(random_element)\n",
    "print(f'\\nFinal Hand <<Go 1st>> : {[v for v in tempHand.values()]}')\n",
    "\n",
    "random_element = rd.choice(tempDeck)\n",
    "tempHand['5'] = random_element\n",
    "tempDeck.remove(random_element)\n",
    "print(f'\\nFinal Hand <<Go 2nd>> : {[v for v in tempHand.values()]}')"
   ]
  }
 ],
 "metadata": {
  "kernelspec": {
   "display_name": "Python 3 (ipykernel)",
   "language": "python",
   "name": "python3"
  },
  "language_info": {
   "codemirror_mode": {
    "name": "ipython",
    "version": 3
   },
   "file_extension": ".py",
   "mimetype": "text/x-python",
   "name": "python",
   "nbconvert_exporter": "python",
   "pygments_lexer": "ipython3",
   "version": "3.10.10"
  }
 },
 "nbformat": 4,
 "nbformat_minor": 5
}
